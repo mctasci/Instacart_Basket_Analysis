{
 "cells": [
  {
   "cell_type": "markdown",
   "id": "daf54a6e-74ac-4081-8c42-bffea2b73da1",
   "metadata": {},
   "source": [
    "# Importing Libraries"
   ]
  },
  {
   "cell_type": "code",
   "execution_count": null,
   "id": "3b937a20-813e-4371-b91f-333f3d891b5f",
   "metadata": {},
   "outputs": [],
   "source": []
  },
  {
   "cell_type": "code",
   "execution_count": 11,
   "id": "1ffc4f6d-fc07-4fec-8b43-5cb7e27644a1",
   "metadata": {},
   "outputs": [],
   "source": [
    "# Import libraries\n",
    "import pandas as pd\n",
    "import numpy as np\n",
    "import os"
   ]
  },
  {
   "cell_type": "markdown",
   "id": "d27d9f51-5be8-4d21-a5c4-727083fbb17e",
   "metadata": {},
   "source": [
    "# Data Types"
   ]
  },
  {
   "cell_type": "code",
   "execution_count": 21,
   "id": "00894a3b-2e59-48c3-9512-fa8d4668f511",
   "metadata": {},
   "outputs": [],
   "source": [
    "# Code 3 different ways of reaching a result of 100 by adding or subtracting numeric variables\n",
    "x = 90\n",
    "y = 10\n",
    "z = 110"
   ]
  },
  {
   "cell_type": "code",
   "execution_count": 18,
   "id": "1b742470-72ab-4331-9bb3-d68d145402b3",
   "metadata": {},
   "outputs": [
    {
     "data": {
      "text/plain": [
       "100"
      ]
     },
     "execution_count": 18,
     "metadata": {},
     "output_type": "execute_result"
    }
   ],
   "source": [
    "x + y "
   ]
  },
  {
   "cell_type": "code",
   "execution_count": 19,
   "id": "51a0f8d8-3b91-4aa8-9577-2e7fc04ddc17",
   "metadata": {},
   "outputs": [
    {
     "data": {
      "text/plain": [
       "100"
      ]
     },
     "execution_count": 19,
     "metadata": {},
     "output_type": "execute_result"
    }
   ],
   "source": [
    "z - y"
   ]
  },
  {
   "cell_type": "code",
   "execution_count": 20,
   "id": "19f66223-2493-42a4-bc65-ee122e75c0ed",
   "metadata": {},
   "outputs": [
    {
     "data": {
      "text/plain": [
       "100"
      ]
     },
     "execution_count": 20,
     "metadata": {},
     "output_type": "execute_result"
    }
   ],
   "source": [
    "z + y - 2 * y "
   ]
  },
  {
   "cell_type": "code",
   "execution_count": 22,
   "id": "5cd8c612-06e2-4622-91ec-e7621c3be219",
   "metadata": {},
   "outputs": [],
   "source": [
    "# Code 2 floating-point variables and divide them by each other\n",
    "x = 8.202\n",
    "y = 2.242"
   ]
  },
  {
   "cell_type": "code",
   "execution_count": 23,
   "id": "c5e5a803-c1b7-4d8b-a11b-0301b5aa4fe4",
   "metadata": {},
   "outputs": [
    {
     "data": {
      "text/plain": [
       "3.6583407671721675"
      ]
     },
     "execution_count": 23,
     "metadata": {},
     "output_type": "execute_result"
    }
   ],
   "source": [
    "x / y"
   ]
  },
  {
   "cell_type": "code",
   "execution_count": 24,
   "id": "3542a9ea-b985-41a7-918a-d5f65560e0d2",
   "metadata": {},
   "outputs": [],
   "source": [
    "# Construct a short word made of separate strings\n",
    "\n",
    "a = \"Note\"\n",
    "b = \"book\""
   ]
  },
  {
   "cell_type": "code",
   "execution_count": 25,
   "id": "e8c096d7-4fe0-4c16-b512-80bb53ddc64e",
   "metadata": {},
   "outputs": [
    {
     "data": {
      "text/plain": [
       "'Notebook'"
      ]
     },
     "execution_count": 25,
     "metadata": {},
     "output_type": "execute_result"
    }
   ],
   "source": [
    "a + b"
   ]
  },
  {
   "cell_type": "code",
   "execution_count": 27,
   "id": "e2945d7d-0741-4a73-8f2c-ce2cfa978f27",
   "metadata": {},
   "outputs": [],
   "source": [
    "# Construct 2 short sentences made of separate strings\n",
    "a = \"Hello World!\"\n",
    "b = \"I love coding!\""
   ]
  },
  {
   "cell_type": "code",
   "execution_count": 28,
   "id": "1514a0ef-e241-4059-a78d-53b646b45e39",
   "metadata": {},
   "outputs": [
    {
     "data": {
      "text/plain": [
       "'Hello World!I love coding!'"
      ]
     },
     "execution_count": 28,
     "metadata": {},
     "output_type": "execute_result"
    }
   ],
   "source": [
    "a + b"
   ]
  },
  {
   "cell_type": "code",
   "execution_count": null,
   "id": "f7e19ef6-1a8d-4acd-9458-965b2f234624",
   "metadata": {},
   "outputs": [],
   "source": []
  }
 ],
 "metadata": {
  "kernelspec": {
   "display_name": "Python 3 (ipykernel)",
   "language": "python",
   "name": "python3"
  },
  "language_info": {
   "codemirror_mode": {
    "name": "ipython",
    "version": 3
   },
   "file_extension": ".py",
   "mimetype": "text/x-python",
   "name": "python",
   "nbconvert_exporter": "python",
   "pygments_lexer": "ipython3",
   "version": "3.11.7"
  }
 },
 "nbformat": 4,
 "nbformat_minor": 5
}
